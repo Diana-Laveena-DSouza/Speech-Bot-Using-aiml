{
 "cells": [
  {
   "cell_type": "code",
   "execution_count": 7,
   "id": "dceb6d22",
   "metadata": {},
   "outputs": [],
   "source": [
    "import sounddevice as sd\n",
    "import soundfile as sf\n",
    "import speech_recognition as sr\n",
    "from playsound import playsound\n",
    "import wavio\n",
    "import gtts\n",
    "def queries():\n",
    "    fs = 44100  # Sample rate\n",
    "    seconds = 5  # Duration of recording\n",
    "\n",
    "    myrecording = sd.rec(int(seconds * fs), samplerate=fs, channels=2)\n",
    "    sd.wait()  # Wait until recording is finished\n",
    "    wavio.write('output.wav', myrecording, fs, sampwidth=4)  # Save as WAV file\n",
    "    #Speech to text\n",
    "    AUDIO_FILE = (\"./output.wav\")\n",
    "    r = sr.Recognizer()\n",
    "    with sr.AudioFile(AUDIO_FILE) as source: \n",
    "    #reads the audio file. Here we use record instead of \n",
    "    #listen \n",
    "        audio = r.record(source)\n",
    "    return r.recognize_google(audio)"
   ]
  },
  {
   "cell_type": "code",
   "execution_count": 8,
   "id": "66b57ca8",
   "metadata": {},
   "outputs": [],
   "source": [
    "def bot(response):\n",
    "    global i\n",
    "    t1 = gtts.gTTS(response)\n",
    "    t1.save(\"response\"+str(i)+\".mp3\")\n",
    "    playsound(\"response\"+str(i)+\".mp3\")\n",
    "    i+=1"
   ]
  },
  {
   "cell_type": "code",
   "execution_count": 9,
   "id": "d8958a5d",
   "metadata": {},
   "outputs": [
    {
     "name": "stdout",
     "output_type": "stream",
     "text": [
      "Loading from brain file: pretrained_model.dump\n",
      "Loading brain from pretrained_model.dump...done (101621 categories in 2.33 seconds)\n",
      "Speak: \t\n",
      "good morning\n",
      "bot >  Hello and how are you this morning?\n",
      "Speak: \t\n",
      "I am fine\n",
      "bot >  Glad to hear it. What's new?\n",
      "Speak: \t\n",
      "I saw a beautiful tree\n",
      "bot >  What did it look like to you?\n",
      "Speak: \t\n",
      "looks like a tall and\n",
      "bot >  Interesting comparsion.\n",
      "Speak: \t\n",
      "ok have a nice day bye\n",
      "bot >  Alright then.. day bye  has been good so far.\n",
      "Speak: \t\n",
      "exit\n"
     ]
    }
   ],
   "source": [
    "import os\n",
    "import aiml\n",
    "from autocorrect import Speller\n",
    "import time\n",
    "time.clock = time.time\n",
    "BRAIN_FILE=\"pretrained_model.dump\"\n",
    "\n",
    "k = aiml.Kernel()\n",
    "i=0\n",
    "if os.path.exists(BRAIN_FILE):\n",
    "    print(\"Loading from brain file: \" + BRAIN_FILE)\n",
    "    k.loadBrain(BRAIN_FILE)\n",
    "else:\n",
    "    print(\"Parsing aiml files\")\n",
    "    k.bootstrap(learnFiles=\"learningFileList.aiml\", commands=\"load aiml\")\n",
    "    print(\"Saving brain file: \" + BRAIN_FILE)\n",
    "    k.saveBrain(BRAIN_FILE)\n",
    "\n",
    "while True:\n",
    "    print(\"Speak: \\t\")\n",
    "    query = queries()\n",
    "    print(query)\n",
    "    if query=='exit':\n",
    "        break;\n",
    "    else:\n",
    "        warnings.filterwarnings('ignore', category=FutureWarning)\n",
    "        spell = Speller(lang='en')\n",
    "        query = [spell(w) for w in (query.split())]\n",
    "    question = \" \".join(query)\n",
    "    response = k.respond(question)\n",
    "    if response:\n",
    "        print(\"bot > \", response)\n",
    "        bot(response)\n",
    "    else:\n",
    "        print(\"bot > :) \", )"
   ]
  }
 ],
 "metadata": {
  "kernelspec": {
   "display_name": "Python 3",
   "language": "python",
   "name": "python3"
  },
  "language_info": {
   "codemirror_mode": {
    "name": "ipython",
    "version": 3
   },
   "file_extension": ".py",
   "mimetype": "text/x-python",
   "name": "python",
   "nbconvert_exporter": "python",
   "pygments_lexer": "ipython3",
   "version": "3.8.8"
  }
 },
 "nbformat": 4,
 "nbformat_minor": 5
}
